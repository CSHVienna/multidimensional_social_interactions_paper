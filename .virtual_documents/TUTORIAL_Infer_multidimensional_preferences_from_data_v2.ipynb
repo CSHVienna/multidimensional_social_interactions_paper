


import pandas as pd
import matplotlib.pyplot as plt


from multisoc.infer import data_loader
from multisoc.infer import wrappers
from multisoc.infer import MRQAP





nodes_dummy = pd.read_csv("nodes_dummy.csv",index_col="index",dtype='category')
edges_dummy = pd.read_csv("edges_dummy.csv",dtype='category')


# import requests # pip install requests
# from io import StringIO

# edges_dummy_url = 'https://pastebin.com/raw/1pqauPwz'
# nodes_dummy_url = 'https://pastebin.com/raw/eNp61ptx'

# contents = requests.get(edges_dummy_url).text.split('\n')
# edges_dummy2 = pd.read_csv(StringIO("".join(contents)),dtype='category')

# contents = requests.get(nodes_dummy_url).text.split('\n')
# nodes_dummy2 = pd.read_csv(StringIO("".join(contents)),dtype='category',index_col="index")





dimensions_list = ['number','color','shape']
num_dimensions = len(dimensions_list)

shape_list = ["Circle","Square"]
color_list = ["Blue","Red"]
number_list = ["1","2","3","4","5","6"]

all_attributes_dict = {
    "shape":shape_list,
    "color":color_list,
    "number":number_list
}





nodes_input, edges_input = data_loader.build_nodes_edges_input_df(nodes_dummy, edges_dummy, dimensions=["shape","color","number"])


edges_input





results_1d_dct = wrappers.infer_latent_preferences_1dSimple(
    nodes_input,
    edges_input,
    dimensions_list, 
    all_attributes_dict,
    type_p = "and" ## Type of aggregation function {and,or,mean}
    )


res_dct_multi = wrappers.infer_latent_preferences_Multidimensional(
    nodes_input,
    edges_input,
    dimensions_list, 
    all_attributes_dict)





results_1d_dct.keys()


results_1d_dct["multidimensional_links"].style.background_gradient(cmap="viridis")


results_1d_dct["h_normalized_inferred_latent_preferences"][0].style.background_gradient(cmap="viridis",vmin=0,vmax=1)


results_1d_dct["h_normalized_inferred_latent_preferences"][1].style.background_gradient(cmap="viridis",vmin=0,vmax=1)


results_1d_dct["h_normalized_inferred_latent_preferences"][2].style.background_gradient(cmap="viridis",vmin=0,vmax=1)





mrqap_res = MRQAP.MRQAP_1dSimple(
    nodes_input,
    edges_input,
    dimensions_list,
    all_attributes_dict,
    mrqap_iter=100,
    aggr_fun="and")


mrqap_res





mrqap_res["MRQAP_av_h_norm"][0].style.background_gradient(cmap="viridis")



