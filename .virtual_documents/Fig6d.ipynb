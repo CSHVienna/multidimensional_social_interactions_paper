import matplotlib.pyplot as plt


from multisoc.infer import data_loader
from multisoc.infer import aux_functions
from multisoc.infer import inference


data_path = "../multidimensional_homophily/Datasets/AddHealth"

aics_dict = {}
for school in range(1,84):
    try:
        nodes_list,edges_list = data_loader.load_AddHealth(school, th_sex = 20, th_race=20, th_grade=20, school=None,
                                                          data_path = data_path)
    except: print('Error')
    if len(nodes_list['sex'].cat.categories)==1 or len(nodes_list['race'].cat.categories)==1:
        print('There is only one sex category or only one race category: we skip it')
    elif nodes_list.shape[0]<100:
        print('There are less than 100 students in this school: we skip it')
    else:
        n,counts = aux_functions.get_n_and_counts(nodes_list,edges_list,['sex','race','grade'])
        print(f'There are {n.shape[1]} parameters')
        results = inference.create_table(n,counts)
        results = results.set_index('Type of model')
        results = results.drop(['or','mean'],axis=0)
        results.index = ['Strictly multidimensional', 'sex-race-grade', 'sex', 'race', 'grade', 'sex-race', 'sex-grade', 'race-grade']
        results['AIC'] = results['AIC'].div(results.loc['Strictly multidimensional','AIC'])
        aics = results['AIC'].sort_values()
        aics_dict[school] = aics
aics_df = pd.DataFrame(aics_dict).transpose()
aics_df = aics_df.T.assign(m=aics_df.median(axis=0)).sort_values('m',ascending=False).drop('m', axis=1).T
aics_df = aics_df.drop('Strictly multidimensional',axis=1)
aics_df = aics_df.apply(lambda x: np.log2(x) if np.issubdtype(x.dtype, np.number) else x)
aics_df.columns = [x.replace('-',' + ') for x in aics_df.columns]
fig,ax= plt.subplots(1,1,figsize=(0.6*2,0.6*8))
p = plt.violinplot(aics_df,showmeans=False, showmedians=False, showextrema=False, vert=False)
ax.grid(axis = "x",zorder=0,alpha=0.3)
colors = ['C0','C1','C1','C2','C1','C2','C2']
for pos in range(1,8):
    p["bodies"][pos-1].set_facecolor(colors[7-pos])
    plt.boxplot(aics_df.iloc[:,pos-1],
        positions=[pos],
        sym = "",
        patch_artist=True,
        boxprops=dict(facecolor='black'),
        medianprops=dict(alpha=0),
        capprops=dict(alpha=0),
        vert=False
    )
    plt.plot(np.median(aics_df.iloc[:,pos-1]),pos,"ow",ms=2)
plt.yticks(range(1,8),aics_df.columns)
plt.xticks(np.arange(-2,4,1))
plt.tick_params(axis='y', which='both', left=False, right=False)
plt.xlabel('log(AIC ratio)')
ax.spines['top'].set_visible(False)
ax.spines['right'].set_visible(False)
ax.spines['left'].set_visible(False)
plt.plot((0,0),(0.5,7.5),ls="--", color="grey", zorder=0, lw=1)
plt.xticks(np.arange(-2,4,1))
plt.show()
plt.savefig('plot.svg',bbox_inches='tight')



