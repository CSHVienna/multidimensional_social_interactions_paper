import pandas as pd
import matplotlib.pyplot as plt
from matplotlib import colors
import numpy as np
import itertools


dimensions_list = ['grade','race','sex']
num_dimensions = len(dimensions_list)
sex_list = ["Female","Male"]
race_list = ["White","Black","Hispanic","Asian","Mixed/other"]
grade_list = ["7th","8th","9th","10th","11th","12th"]
all_attributes_dict = {
    "grade":grade_list,
    "race":race_list,
    "sex":sex_list
}

multidim_groups = list(itertools.product(*[all_attributes_dict[d] for d in dimensions_list]))

results_df = pd.read_csv("preference_results_v4_merged.csv")


## https://stackoverflow.com/questions/47391948/pandas-style-background-gradient-using-other-dataframe
def b_g(s, df_ref, cmap='viridis', vmin=0, vmax=1):
    # Pass the columns from Dataframe A 
    a = df_ref.loc[:,s.name].copy()
    norm = colors.Normalize(vmin,vmax)
    normed = norm(a.values)
    c = [colors.rgb2hex(x) for x in plt.cm.get_cmap(cmap)(normed)]

    return ['background-color: %s' % color for color in c]

def font_color(s, df_ref, cmap='viridis', vmin=0,vmax=1):
    # Pass the columns from Dataframe A 
    a = df_ref.loc[:,s.name].copy()
    norm = colors.Normalize(vmin,vmax)
    normed = norm(a.values)
    c2 = ["#ffffff" if colors.rgb_to_hsv(x[:-1])[-1]<0.7 else "#000000" for x in plt.cm.get_cmap(cmap)(normed) ]
    
    return ['color: %s' % color for color in c2]


## Select school
school = 61
resutls_df_school = results_df[results_df.school == school]





## Race
pvals_dfs = {}
h_dfs = {}
h_norm_dfs = {}
for i, gi in enumerate(race_list):
    for j, gj in enumerate(race_list):
        if gi == gj:
            continue
        col = "MRQAP_pval1s_h_and_1d-simple_race_" + gi + "-" + gj
        vals = resutls_df_school[col].values
        assert len(vals)==1
        vals = vals[0]
        if np.isnan(vals):
            if np.isnan(resutls_df_school["MRQAP_pval2s_h_and_1d-simple_race_" + gj + "-" + gi].values[0]):
                continue
            else:
                print ("We have a problem in", gi,gj)
        if gi not in pvals_dfs:
            pvals_dfs[gi] = {}
            h_norm_dfs[gi] = {}
        pvals_dfs[gi][gj] = vals
        h_norm_dfs[gi][gj] = resutls_df_school["h_norm_and_1d-simple_race_" + gi + "-" + gj].values[0]
t1 = pd.DataFrame.from_dict(h_norm_dfs,orient="index")
t2 = pd.DataFrame.from_dict(pvals_dfs,orient="index")
# t1.style.apply(lambda x: t2.applymap(color_cells), axis=None)
## https://stackoverflow.com/questions/25571882/pandas-columns-correlation-with-statistical-significance
p = t2.applymap(lambda x: ''.join(['*' for t in [.05, .01, .001] if x<=t]))
t1.round(2).astype(str) + p
t1str = t1.round(2).astype(str) + p
t1str[t1str=="nan"] = "-"
t1str = t1str[[i for i in race_list if i in h_norm_dfs]]
t1str = t1str.loc[[i for i in race_list if i in h_norm_dfs]]
## https://stackoverflow.com/questions/55929264/using-a-dataframe-to-format-the-style-of-another-dataframe
t1str_style = t1str.style.format(na_rep='-').set_properties(**{'text-align': 'center'}).applymap_index(lambda v: "font-weight: bold;", axis="index").applymap_index(lambda v: "font-weight: bold;", axis="columns")

t1 = t1[[i for i in race_list if i in h_norm_dfs]]
t1 = t1.loc[[i for i in race_list if i in h_norm_dfs]]
styled_result = t1str.style.apply(lambda x: b_g(x,t1,vmin=0,vmax=1)).apply(lambda x: font_color(x,t1)).set_properties(**{'text-align': 'center'}).applymap_index(lambda v: "font-weight: bold;", axis="index").applymap_index(lambda v: "font-weight: bold;", axis="columns")
styled_result





## Grade
pvals_dfs = {}
h_dfs = {}
h_norm_dfs = {}
for i, gi in enumerate(grade_list):
    for j, gj in enumerate(grade_list):
        if gi == gj:
            continue
        col = "MRQAP_pval1s_h_and_1d-simple_grade_" + gi + "-" + gj
        vals = resutls_df_school[col].values
        assert len(vals)==1
        vals = vals[0]
        if np.isnan(vals):
            if np.isnan(resutls_df_school["MRQAP_pval2s_h_and_1d-simple_grade_" + gj + "-" + gi].values[0]):
                continue
            else:
                print ("We have a problem in", gi,gj)
        if gi not in pvals_dfs:
            pvals_dfs[gi] = {}
            h_norm_dfs[gi] = {}
        pvals_dfs[gi][gj] = vals
        h_norm_dfs[gi][gj] = resutls_df_school["h_norm_and_1d-simple_grade_" + gi + "-" + gj].values[0]
print (h_norm_dfs)
t1 = pd.DataFrame.from_dict(h_norm_dfs,orient="index")
t2 = pd.DataFrame.from_dict(pvals_dfs,orient="index")
# t1.style.apply(lambda x: t2.applymap(color_cells), axis=None)
## https://stackoverflow.com/questions/25571882/pandas-columns-correlation-with-statistical-significance
p = t2.applymap(lambda x: ''.join(['*' for t in [.05, .01, .001] if x<=t]))
t1.round(2).astype(str) + p
t1str = t1.round(2).astype(str) + p
t1str[t1str=="nan"] = "-"
t1str = t1str[[i for i in grade_list if i in h_norm_dfs]]
t1str = t1str.loc[[i for i in grade_list if i in h_norm_dfs]]
## https://stackoverflow.com/questions/55929264/using-a-dataframe-to-format-the-style-of-another-dataframe
t1str_style = t1str.style.format(na_rep='-').set_properties(**{'text-align': 'center'}).applymap_index(lambda v: "font-weight: bold;", axis="index").applymap_index(lambda v: "font-weight: bold;", axis="columns")

t1 = t1[[i for i in grade_list if i in h_norm_dfs]]
t1 = t1.loc[[i for i in grade_list if i in h_norm_dfs]]
styled_result = t1str.style.apply(lambda x: b_g(x,t1,vmin=0,vmax=0.4)).apply(lambda x: font_color(x,t1)).set_properties(**{'text-align': 'center'}).applymap_index(lambda v: "font-weight: bold;", axis="index").applymap_index(lambda v: "font-weight: bold;", axis="columns")
styled_result





## Sex
pvals_dfs = {}
h_dfs = {}
h_norm_dfs = {}
for i, gi in enumerate(sex_list):
    for j, gj in enumerate(sex_list):
        if gi == gj:
            continue
        col = "MRQAP_pval1s_h_and_1d-simple_sex_" + gi + "-" + gj
        vals = resutls_df_school[col].values
        assert len(vals)==1
        vals = vals[0]
        if np.isnan(vals):
            if np.isnan(resutls_df_school["MRQAP_pval2s_h_and_1d-simple_sex_" + gj + "-" + gi].values[0]):
                continue
            else:
                print ("We have a problem in", gi,gj)
        if gi not in pvals_dfs:
            pvals_dfs[gi] = {}
            h_norm_dfs[gi] = {}
        pvals_dfs[gi][gj] = vals
        h_norm_dfs[gi][gj] = resutls_df_school["h_norm_and_1d-simple_sex_" + gi + "-" + gj].values[0]
print (h_norm_dfs)
print (pvals_dfs)
t1 = pd.DataFrame.from_dict(h_norm_dfs,orient='index')
t2 = pd.DataFrame.from_dict(pvals_dfs,orient="index")
# t1.style.apply(lambda x: t2.applymap(color_cells), axis=None)
## https://stackoverflow.com/questions/25571882/pandas-columns-correlation-with-statistical-significance
p = t2.applymap(lambda x: ''.join(['*' for t in [.05, .01, .001] if x<=t]))
t1.round(2).astype(str) + p
t1str = t1.round(2).astype(str) + p
t1str[t1str=="nan"] = "-"
t1str = t1str.loc[[i for i in sex_list if i in h_norm_dfs]]
t1str = t1str[[i for i in sex_list if i in h_norm_dfs]]
## https://stackoverflow.com/questions/55929264/using-a-dataframe-to-format-the-style-of-another-dataframe
t1str_style = t1str.style.format(na_rep='-').set_properties(**{'text-align': 'center'}).applymap_index(lambda v: "font-weight: bold;", axis="index").applymap_index(lambda v: "font-weight: bold;", axis="columns")

t1 = t1[[i for i in sex_list if i in h_norm_dfs]]
t1 = t1.loc[[i for i in sex_list if i in h_norm_dfs]]
styled_result = t1str.style.apply(lambda x: b_g(x,t1,vmin=0.4,vmax=1.0)).apply(lambda x: font_color(x,t1,vmin=0.4,vmax=1.0)).set_properties(**{'text-align': 'center'}).applymap_index(lambda v: "font-weight: bold;", axis="index").applymap_index(lambda v: "font-weight: bold;", axis="columns")
styled_result



