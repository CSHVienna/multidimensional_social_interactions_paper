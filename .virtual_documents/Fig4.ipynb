import numpy as np
import matplotlib.pyplot as plt
import pickle

from biased_2D_homophily import biased_2_dim_2_attr_Dim1_ER_DIR_homog_h1


from multisoc.generate.two_dimensional_population import consol_comp_pop_frac_tnsr
from multisoc.generate.multidimensional_network import multidimensional_network
from multisoc.metrics.network_statistics import comp_group_cnt_tnsr
from multisoc.metrics.network_statistics import simple_inter_group_ties
from multisoc.theory.network_statistics import ER_1D_solve_h_mtrx_dens





## THIS TAKES AROUND 3min

h_mtrx_lst = [ [[0.4,0.1],[0.2,0.3]], [[0.25,0.25],[0.25,0.25]] ] ## 1D homophily matrices with one of them being completely homogeneous (or unbiased)
pop_fracs_lst = [[0.5,0.5],[0.5,0.5]] ## Balanced population fractions in both dimensions to have the most favourable scenario to recover homophily
kind = "all"
consol_vals = np.linspace(0,1,21)

niter = 10
N = 200

h1_bias_emp_lst = []
h1_bias_th_lst = []
for cnsli, consol in enumerate(consol_vals):
    
    print (cnsli+1,"/",len(consol_vals),"k=", consol)
    
    comp_pop_frac_tnsr = consol_comp_pop_frac_tnsr(pop_fracs_lst,consol)
    
    h1_bias_emp_lst_i= []
    for iteri in range(niter):
    
        cnts_mtrx, pop_cnts = multidimensional_network(
            h_mtrx_lst,
            comp_pop_frac_tnsr,
            kind,
            directed=True,
            pop_fracs_lst = pop_fracs_lst,
            N=N,
            v = 1,
            get_aggr_res = True,
            ## Interaction-specific params
            alpha = None,
            p_d = None,
            )

        ## Empirical values of homophily matrix of Dim 1
        pop_cnts_tnsr, pop_cnts_lst = comp_group_cnt_tnsr(pop_cnts,comp_pop_frac_tnsr.shape)
        cnts_mtrx_lst = simple_inter_group_ties(cnts_mtrx,None,comp_pop_frac_tnsr.shape)
        h1_bias_emp_i = ER_1D_solve_h_mtrx_dens(cnts_mtrx_lst[1],pop_cnts_lst[1])
        h1_bias_emp_lst_i.append(h1_bias_emp_i)
    
    h1_bias_emp_lst.append(np.mean(h1_bias_emp_lst_i,axis=0))

    ## Theorical values of homophily matrix of Dim 1
    h1_bias_th_i = biased_2_dim_2_attr_Dim1_ER_DIR_homog_h1(h_mtrx_lst[1][0][0],h_mtrx_lst[0],consol)
    h1_bias_th_lst.append(h1_bias_th_i)



# ## PRECOMPUTED RESULTS
# with open(f"wrong_1d_preferences_DATA_N200.p","rb") as f:
#     res_dict = pickle.load(f)

# h_mtrx_lst = res_dict["h_mtrx_lst"]
# pop_fracs_lst = res_dict["pop_fracs_lst"]
# N = res_dict["N"]
# consol_vals = res_dict["consol"]
# h1_bias_emp_lst = res_dict["h1_bias_emp_lst"]
# h1_bias_th_lst = res_dict["h1_bias_th_lst"]





plt.figure(figsize=(0.55*4*4.2,0.55*4))
#plt.suptitle("[Wrong] Dim1 homophily matrix")
x = consol_vals

for plotnum in range(4):
    plt.subplot(1,4,plotnum+1)
    plt.title(f"$\widehat{{h}}^2_{{{int(plotnum/2)+1},{int(plotnum%2)+1}}}$")
    y1 = [i[int(plotnum/2),int(plotnum%2)]/np.sum(i) for i in h1_bias_emp_lst]
    y2 = [i[int(plotnum/2),int(plotnum%2)]/np.sum(i) for i in h1_bias_th_lst]
    plt.plot(x,y1,"o",ms=3)
    plt.plot(x,y2,"-",ms=2,zorder=0)
    plt.axhline(h_mtrx_lst[1][int(plotnum/2)][int(plotnum%2)]/np.sum(h_mtrx_lst[1]),ls="--",color="k")
    plt.axvline(0.5,ls=":",color="grey")
    if plotnum == 0:
        plt.xlabel("Correlation ($\kappa$)")
        plt.ylabel("Est. homophily $\widehat{h}$")

plt.tight_layout()
plt.show()



