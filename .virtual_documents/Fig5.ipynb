import pandas as pd
import matplotlib.pyplot as plt
from matplotlib.patches import ConnectionPatch
import numpy as np
import itertools


dimensions_list = ['grade','race','sex']
num_dimensions = len(dimensions_list)
sex_list = ["Female","Male"]
race_list = ["White","Black","Hispanic","Asian","Mixed/other"]
grade_list = ["7th","8th","9th","10th","11th","12th"]
all_attributes_dict = {
    "grade":grade_list,
    "race":race_list,
    "sex":sex_list
}

multidim_groups = list(itertools.product(*[all_attributes_dict[d] for d in dimensions_list]))

results_df = pd.read_csv("preference_results_v4_merged.csv")


aggr_fun_cols = [("multi-full","multi"),
                 ("or_1d-simple","OR"),
                 # ("mean_1d-simple","mean"),
                 ("and_1d-simple",r"$\bf{AND}$")]

pref_struct_cols = [("multi-full","multi"),
                    ("and_multi-1d",r"multi$\times$1D"),
                    ("and_1d-full",r"1D$\times$1D"),
                    ("and_1d-simple",r"$\bf{1D}$")]


## For variable width subplots https://matplotlib.org/stable/gallery/subplots_axes_and_figures/subfigures.html#sphx-glr-gallery-subplots-axes-and-figures-subfigures-py
## To connect points in different subplots https://stackoverflow.com/questions/75655868/draw-a-line-to-connect-points-between-subfigures
plt.close("all")
mediansize = 2
fig = plt.figure(layout="constrained",figsize=(10,7))
## Top and bottom row plots
subfigs = fig.subfigures(2, 1, wspace=0.07)
## Top row plots
axsTop = subfigs[0].subplots(1, 6, sharey=False,gridspec_kw={'width_ratios': [1,1,1,1.5,1.5,1.5]})
## Bottom row plots
axsBottom = subfigs[1].subplots(1, 3, sharey=True)

## Likelihood
color = "C0"
# cols_compare = [i for i in results_df.columns if "L_" in i and ("1d-simple" in i or "multi-full" in i) and "FIXED" in i]
cols_compare = ["L_" + i[0] for i in aggr_fun_cols]
plt_cntr = 0

ax0 = axsTop[3]
plt.sca(ax0)
ticklabels = []
for i, col_i in enumerate(cols_compare):
    for col_j in cols_compare[i+1:]:
        if col_i == col_j:
            continue
        x = results_df[col_i]
        y = results_df[col_j]
        z = np.log2(x/y)
        p = plt.violinplot(np.log2(x/y),positions=[plt_cntr],showmeans=False, showmedians=False, showextrema=False, vert=True)
        p["bodies"][0].set_facecolor(color)
        plt.boxplot(np.log2(x/y),positions=[plt_cntr],
                    # notch=True,bootstrap=10000,
                    sym = "", ## do not plot outliers,
                    patch_artist=True,
                    boxprops=dict(facecolor='black'),
                    medianprops=dict(alpha=0),
                    capprops=dict(alpha=0)
                   )
        plt.plot(plt_cntr,np.median(z),"ow",ms=mediansize)
        plt_cntr += 1
        ticklabel = aggr_fun_cols[i][1] + " / " + [i[1] for i in aggr_fun_cols if col_j[2:] in i[0]][0]
        ticklabels.append(ticklabel)
plt.ylabel(r"$\longleftarrow$ A better   $\log_2 (A / B)$   B better $\longrightarrow$")
plt.xticks(range(len(ticklabels)), ticklabels, 
    rotation=45, ha="right")
plt.axhline(0,color="grey",ls="--",zorder=0)
ax0.spines[['right', 'top']].set_visible(False)
plt.title("Likelihood")

# cols_compare = [i for i in results_df.columns if "AIC_" in i and ("1d-simple" in i or "multi-full" in i) and "FIXED" in i]
cols_compare = ["AIC_" + i[0] for i in aggr_fun_cols]
color="C1"
ax1 = axsTop[4]
plt.sca(ax1)
ax1.get_shared_y_axes().join(ax0, ax1)
ticklabels = []
plt_cntr = 0
for i, col_i in enumerate(cols_compare):
    for col_j in cols_compare[i+1:]:
        if col_i == col_j:
            continue
        x = results_df[col_i]
        y = results_df[col_j]
        z = np.log2(x/y)
        p = plt.violinplot(np.log2(x/y),positions=[plt_cntr],showmeans=False, showmedians=False, showextrema=False, vert=True)
        p["bodies"][0].set_facecolor(color)
        plt.boxplot(np.log2(x/y),positions=[plt_cntr],
                    # notch=True,bootstrap=10000,
                    sym = "", ## do not plot outliers,
                    patch_artist=True,
                    boxprops=dict(facecolor='black'),
                    medianprops=dict(alpha=0),
                    capprops=dict(alpha=0)
                   )
        plt.plot(plt_cntr,np.median(z),"ow",ms=mediansize)
        plt_cntr += 1
        ticklabel = aggr_fun_cols[i][1] + " / " + [i[1] for i in aggr_fun_cols if col_j[4:] in i[0]][0]
        ticklabels.append(ticklabel)
plt.xticks(range(len(ticklabels)), ticklabels, 
    rotation=45, ha="right")
ax1.spines[["left",'right', 'top']].set_visible(False)
plt.setp(ax1.get_yticklabels(), visible=False)
ax1.tick_params(axis='y', which='both', length=0)
plt.axhline(0,color="grey",ls="--",zorder=0)
plt.title("AIC")

# cols_compare = [i for i in results_df.columns if "BIC_" in i and ("1d-simple" in i or "multi-full" in i) and "FIXED" in i]
cols_compare = ["BIC_" + i[0] for i in aggr_fun_cols]
color="C2"
ax2 = axsTop[5]
plt.sca(ax2)
ax0.get_shared_y_axes().join(ax0, ax2)
ticklabels = []
plt_cntr = 0
for i, col_i in enumerate(cols_compare):
    for col_j in cols_compare[i+1:]:
        if col_i == col_j:
            continue
        x = results_df[col_i]
        y = results_df[col_j]
        z = np.log2(x/y)
        p = plt.violinplot(np.log2(x/y),positions=[plt_cntr],showmeans=False, showmedians=False, showextrema=False, vert=True)
        p["bodies"][0].set_facecolor(color)
        plt.boxplot(np.log2(x/y),positions=[plt_cntr],
                    # notch=True,bootstrap=10000,
                    sym = "", ## do not plot outliers,
                    patch_artist=True,
                    boxprops=dict(facecolor='black'),
                    medianprops=dict(alpha=0),
                    capprops=dict(alpha=0)
                   )
        plt.plot(plt_cntr,np.median(z),"ow",ms=mediansize)
        plt_cntr += 1
        ticklabel = aggr_fun_cols[i][1] + " / " + [i[1] for i in aggr_fun_cols if col_j[4:] in i[0]][0]
        ticklabels.append(ticklabel)
plt.axhline(0,color="grey",ls="--",zorder=0)
plt.xticks(range(len(ticklabels)), ticklabels, 
    rotation=45, ha="right")
ax2.spines[["left",'right', 'top']].set_visible(False)
plt.setp(ax2.get_yticklabels(), visible=False)
ax2.tick_params(axis='y', which='both', length=0)
plt.title("BIC")

ylim_top_1, ylim_top_2 = plt.ylim()

## Preference structures -> and

cols_compare = ["L_" + i[0] for i in pref_struct_cols]
plt_cntr = 0
color= "C0"
ax3 = axsBottom[0]
plt.sca(ax3)
ticklabels = []
for i, col_i in enumerate(cols_compare):
    for col_j in cols_compare[i+1:]:
        if col_i == col_j:
            continue
        x = results_df[col_i]
        y = results_df[col_j]
        z = np.log2(x/y)
        p = plt.violinplot(np.log2(x/y),positions=[plt_cntr],showmeans=False, showmedians=False, showextrema=False, vert=True)
        p["bodies"][0].set_facecolor(color)
        plt.boxplot(np.log2(x/y),positions=[plt_cntr],
                    # notch=True,bootstrap=10000,
                    sym = "", ## do not plot outliers,
                    patch_artist=True,
                    boxprops=dict(facecolor='black'),
                    medianprops=dict(alpha=0),
                    capprops=dict(alpha=0)
                   )
        plt.plot(plt_cntr,np.median(z),"ow",ms=mediansize)
        plt_cntr += 1
        ticklabel = pref_struct_cols[i][1] + " / " + [i[1] for i in pref_struct_cols if col_j[2:] in i[0]][0]
        ticklabels.append(ticklabel)
# plt.ylabel(r"$\longleftarrow$ A better   $\log_2 (A / B)$   B better $\longrightarrow$")
plt.xticks(range(len(ticklabels)), ticklabels, 
    rotation=45, ha="right")
plt.axhline(0,color="grey",ls="--",zorder=0)
ax3.spines[['right', 'top']].set_visible(False)
plt.title("Likelihood")
plt.ylabel(r"$\longleftarrow$ A better   $\log_2 (A / B)$   B better $\longrightarrow$")

# inset axes....
x1, x2, y1, y2 = 4.7, 5.3, -0.12, 0.02  # subregion of the original image
axins = ax3.inset_axes(
    [0.7, 0.6, 0.27, 0.37],
    xlim=(x1, x2), ylim=(y1, y2), xticklabels=[], yticklabels=[])

## Actual inset plot
x = results_df["L_and_1d-full"]
y = results_df["L_and_1d-simple"]
z = np.log2(x/y)
p = axins.violinplot(z,positions=[5],showmeans=False, showmedians=False, showextrema=False, vert=True,widths=0.3)
p["bodies"][0].set_facecolor(color)
axins.boxplot(z,positions=[5],
            # notch=True,bootstrap=10000,
            sym = "", ## do not plot outliers,
            patch_artist=True,
            boxprops=dict(facecolor='black'),
            medianprops=dict(alpha=0),
            capprops=dict(alpha=0)
           )
axins.plot(5,np.median(z),"ow",ms=mediansize)
axins.axhline(0,color="grey",ls="--",zorder=0)
axins.set_xticks([],[])
axins.set_yticks([-0.1,-.05,0,0],[-0.1,-.05,0,0]) 
plt.setp(axins.get_yticklabels(), visible=True)

_, conn_lines = ax3.indicate_inset_zoom(axins, edgecolor="black")
conn_lines[0].set_visible(True)
conn_lines[1].set_visible(False)

cols_compare = ["AIC_" + i[0] for i in pref_struct_cols]
plt_cntr = 0
color= "C1"
ax4 = axsBottom[1]
plt.sca(ax4)
ax3.get_shared_y_axes().join(ax3, ax4)
ticklabels = []
for i, col_i in enumerate(cols_compare):
    for col_j in cols_compare[i+1:]:
        if col_i == col_j:
            continue
        x = results_df[col_i]
        y = results_df[col_j]
        z = np.log2(x/y)
        p = plt.violinplot(np.log2(x/y),positions=[plt_cntr],showmeans=False, showmedians=False, showextrema=False, vert=True)
        p["bodies"][0].set_facecolor(color)
        plt.boxplot(np.log2(x/y),positions=[plt_cntr],
                    # notch=True,bootstrap=10000,
                    sym = "", ## do not plot outliers,
                    patch_artist=True,
                    boxprops=dict(facecolor='black'),
                    medianprops=dict(alpha=0),
                    capprops=dict(alpha=0)
                   )
        plt.plot(plt_cntr,np.median(z),"ow",ms=mediansize)
        plt_cntr += 1
        ticklabel = pref_struct_cols[i][1] + " / " + [i[1] for i in pref_struct_cols if col_j[4:] in i[0]][0]
        ticklabels.append(ticklabel)
plt.xticks(range(len(ticklabels)), ticklabels, 
    rotation=45, ha="right")
plt.axhline(0,color="grey",ls="--",zorder=0)
ax4.spines[["left",'right', 'top']].set_visible(False)
plt.setp(ax4.get_yticklabels(), visible=False)
ax4.tick_params(axis='y', which='both', length=0)
plt.title("AIC")

# inset axes....
x1, x2, y1, y2 = 4.7, 5.3, -0.1, 0.05  # subregion of the original image
axins = ax4.inset_axes(
    [0.7, 0.6, 0.27, 0.37],
    xlim=(x1, x2), ylim=(y1, y2), xticklabels=[], yticklabels=[])

## Actual inset plot
x = results_df["AIC_and_1d-full"]
y = results_df["AIC_and_1d-simple"]
z = np.log2(x/y)
p = axins.violinplot(z,positions=[5],showmeans=False, showmedians=False, showextrema=False, vert=True,widths=0.3)
p["bodies"][0].set_facecolor(color)
axins.boxplot(z,positions=[5],
            # notch=True,bootstrap=10000,
            sym = "", ## do not plot outliers,
            patch_artist=True,
            boxprops=dict(facecolor='black'),
            medianprops=dict(alpha=0),
            capprops=dict(alpha=0)
           )
axins.plot(5,np.median(z),"ow",ms=mediansize)
axins.axhline(0,color="grey",ls="--",zorder=0)
axins.set_xticks([],[])
axins.set_yticks([-0.1,-.05,0,0.05],[-0.1,-.05,0,0.05]) 
plt.setp(axins.get_yticklabels(), visible=True)

ax4.indicate_inset_zoom(axins, edgecolor="black")

cols_compare = ["BIC_" + i[0] for i in pref_struct_cols]
plt_cntr = 0
color= "C2"
ax5 = axsBottom[2]
plt.sca(ax5)
ax3.get_shared_y_axes().join(ax3, ax5)
ticklabels = []
for i, col_i in enumerate(cols_compare):
    for col_j in cols_compare[i+1:]:
        if col_i == col_j:
            continue
        x = results_df[col_i]
        y = results_df[col_j]
        z = np.log2(x/y)
        p = plt.violinplot(np.log2(x/y),positions=[plt_cntr],showmeans=False, showmedians=False, showextrema=False, vert=True)
        p["bodies"][0].set_facecolor(color)
        plt.boxplot(np.log2(x/y),positions=[plt_cntr],
                    # notch=True,bootstrap=10000,
                    sym = "", ## do not plot outliers,
                    patch_artist=True,
                    boxprops=dict(facecolor='black'),
                    medianprops=dict(alpha=0),
                    capprops=dict(alpha=0)
                   )
        plt.plot(plt_cntr,np.median(z),"ow",ms=mediansize)
        plt_cntr += 1
        ticklabel = pref_struct_cols[i][1] + " / " + [i[1] for i in pref_struct_cols if col_j[4:] in i[0]][0]
        ticklabels.append(ticklabel)
plt.xticks(range(len(ticklabels)), ticklabels, 
    rotation=45, ha="right")
plt.axhline(0,color="grey",ls="--",zorder=0)
ax5.spines[["left",'right', 'top']].set_visible(False)
plt.setp(ax5.get_yticklabels(), visible=False)
ax5.tick_params(axis='y', which='both', length=0)
plt.title("BIC")

# inset axes....
x1, x2, y1, y2 = 4.7, 5.3, -0.1, 0.3  # subregion of the original image
axins = ax5.inset_axes(
    [0.7, 0.6, 0.27, 0.37],
    xlim=(x1, x2), ylim=(y1, y2), xticklabels=[], yticklabels=[])

## Actual inset plot
x = results_df["BIC_and_1d-full"]
y = results_df["BIC_and_1d-simple"]
z = np.log2(x/y)
p = axins.violinplot(z,positions=[5],showmeans=False, showmedians=False, showextrema=False, vert=True,widths=0.3)
p["bodies"][0].set_facecolor(color)
axins.boxplot(z,positions=[5],
            # notch=True,bootstrap=10000,
            sym = "", ## do not plot outliers,
            patch_artist=True,
            boxprops=dict(facecolor='black'),
            medianprops=dict(alpha=0),
            capprops=dict(alpha=0)
           )
axins.plot(5,np.median(z),"ow",ms=mediansize)
axins.axhline(0,color="grey",ls="--",zorder=0)
axins.set_xticks([],[])
axins.set_yticks([-0.1,0,0.1,0.2,0.3],[-0.1,0,0.1,0.2,0.3]) 
plt.setp(axins.get_yticklabels(), visible=True)

ax5.indicate_inset_zoom(axins, edgecolor="black")

# plt.tight_layout()
plt.subplots_adjust(wspace=0.2, 
                    hspace=0.5)

###################################
## Illustration diagram 

comm_example = 80
cols_compare = ["L_" + i[0] for i in aggr_fun_cols]

ax_il_0 = axsTop[0]
plt.sca(ax_il_0)
ticklabels = []
for i, col_i in enumerate(cols_compare):
    x = results_df[results_df["school"]==comm_example][col_i]
    plt.plot(i,x,"o",color="C0",ms=4)
    plt.axhline(0,ls="--",color="grey")
    ticklabel = aggr_fun_cols[i][1]
    ticklabels.append(ticklabel)
plt.xticks(range(len(ticklabels)), ticklabels, 
    rotation=45, ha="right")
plt.ylabel("$\log (\hat{L})$ (higher is better)",labelpad=-2)
plt.xlim(-0.5,2.5)

ax_il_1 = axsTop[1]
plt.sca(ax_il_1)
plt_cntr = 0
plt.axhline(1,ls="--",color="grey")
ticklabels = []
for i, col_i in enumerate(cols_compare):
    for col_j in cols_compare[i+1:]:
        x = results_df[results_df["school"]==comm_example][col_i]
        y = results_df[results_df["school"]==comm_example][col_j]
        z = x/y
        plt.plot(plt_cntr,z,"o",color="C0",ms=4)
        ticklabel = aggr_fun_cols[i][1] + " / " + [i[1] for i in aggr_fun_cols if col_j[2:] in i[0]][0]
        ticklabels.append(ticklabel)
        plt_cntr += 1
plt.xticks(range(len(ticklabels)), ticklabels, 
    rotation=45, ha="right")
plt.ylabel("$A/B$",labelpad=-2)
plt.title("Model selection example with one school")
plt.xlim(-0.5,2.5)

ax_il_2 = axsTop[2]
plt.sca(ax_il_2)
plt_cntr = 0
plt.axhline(0,ls="--",color="grey")
ticklabels = []
for i, col_i in enumerate(cols_compare):
    for col_j in cols_compare[i+1:]:
        x = results_df[results_df["school"]==comm_example][col_i]
        y = results_df[results_df["school"]==comm_example][col_j]
        z = np.log2(x/y)
        plt.plot(plt_cntr,z,"o",color="C0",ms=4)
        ticklabel = aggr_fun_cols[i][1] + " / " + [i[1] for i in aggr_fun_cols if col_j[2:] in i[0]][0]
        ticklabels.append(ticklabel)       

        ## Make connection between points and distribution
        conn = ConnectionPatch(
            xyA=(plt_cntr, z.values[0]), coordsA='data', axesA=ax_il_2,
            xyB=(plt_cntr, z.values[0]), coordsB='data', axesB=ax0,
            color='grey',
            ls="--",
            alpha=0.5
        )
        ax0.add_artist(conn)
        conn.set_in_layout(False) # remove from layout calculations
        ax0.plot(plt_cntr,z,"o",color="red",ms=2)

        plt_cntr += 1
plt.xticks(range(len(ticklabels)), ticklabels, 
    rotation=45, ha="right")
plt.ylabel("$\log_2(A/B)$",labelpad=-2)
ax_il_2.set_ylim(ylim_top_1,ylim_top_2)
plt.xlim(-0.5,2.5)

plt.show()



