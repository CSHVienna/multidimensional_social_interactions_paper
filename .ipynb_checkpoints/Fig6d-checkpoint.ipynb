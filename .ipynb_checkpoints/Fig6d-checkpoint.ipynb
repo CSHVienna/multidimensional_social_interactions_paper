{
 "cells": [
  {
   "cell_type": "code",
   "execution_count": 1,
   "id": "6a27d032-bc70-4778-8a89-f414d19e82c9",
   "metadata": {},
   "outputs": [],
   "source": [
    "import matplotlib.pyplot as plt"
   ]
  },
  {
   "cell_type": "code",
   "execution_count": 2,
   "id": "631fa6e6-f694-46fe-8497-266900d8a013",
   "metadata": {},
   "outputs": [],
   "source": [
    "from multisoc.infer import data_loader\n",
    "from multisoc.infer import aux_functions\n",
    "from multisoc.infer import inference"
   ]
  },
  {
   "cell_type": "code",
   "execution_count": null,
   "id": "ed3e98ee-a7ca-49eb-ab35-bdb886fd5bb6",
   "metadata": {},
   "outputs": [
    {
     "name": "stdout",
     "output_type": "stream",
     "text": [
      "Community #1: one school\n",
      "There are less than 100 students in this school: we skip it\n",
      "Community #2: one school\n",
      "There is only one sex category or only one race category: we skip it\n",
      "Community #3: one school\n",
      "There are less than 100 students in this school: we skip it\n",
      "Community #4: 2 schools\n",
      "There is only one sex category or only one race category: we skip it\n",
      "Community #5: one school\n",
      "There is only one sex category or only one race category: we skip it\n",
      "Community #6: one school\n",
      "There is only one sex category or only one race category: we skip it\n",
      "Community #7: 2 schools\n",
      "There are 36 parameters\n",
      "Community #8: one school\n",
      "There are 20 parameters\n",
      "Community #9: one school\n",
      "There are 24 parameters\n",
      "Community #10: one school\n",
      "There are 24 parameters\n",
      "Community #11: 2 schools\n",
      "There are 24 parameters\n",
      "Community #12: 1 schools\n",
      "There are 16 parameters\n",
      "Community #13: 2 schools\n",
      "There are 60 parameters\n",
      "Community #14: 2 schools\n",
      "There are 36 parameters\n",
      "Community #15: 2 schools\n",
      "There are 60 parameters\n",
      "Community #16: 2 schools\n",
      "There are 48 parameters\n",
      "Community #17: 2 schools\n",
      "There are 60 parameters\n",
      "Community #18: one school\n",
      "There are 24 parameters\n",
      "Community #19: 2 schools\n",
      "There are 36 parameters\n",
      "Community #20: 2 schools\n",
      "There are 36 parameters\n",
      "Community #21: one school\n",
      "There is only one sex category or only one race category: we skip it\n",
      "Community #22: one school\n",
      "There are 48 parameters\n",
      "Community #23: 2 schools\n",
      "There are 48 parameters\n",
      "Community #24: 2 schools\n",
      "There are 60 parameters\n",
      "Community #25: one school\n",
      "There are 40 parameters\n",
      "Community #26: one school\n",
      "There are 60 parameters\n",
      "Community #27: one school\n",
      "There is only one sex category or only one race category: we skip it\n",
      "Community #28: 2 schools\n",
      "There are 48 parameters\n",
      "Community #29: one school\n",
      "There are 24 parameters\n",
      "Community #30: one school\n",
      "There are 48 parameters\n",
      "Community #31: 2 schools\n",
      "There are 60 parameters\n",
      "Community #32: one school\n",
      "There are 48 parameters\n",
      "Community #33: one school\n",
      "There are 32 parameters\n"
     ]
    },
    {
     "name": "stderr",
     "output_type": "stream",
     "text": [
      "C:\\Users\\csh_samu\\Documents\\CSH\\CSH\\projects\\multiple_attributes\\python_GIT\\package\\infer\\inference.py:17: RuntimeWarning: divide by zero encountered in log\n",
      "  return np.sum(counts*np.log(p_est) + (NN-counts)*np.log(1-p_est))\n",
      "C:\\Users\\csh_samu\\anaconda3\\lib\\site-packages\\scipy\\optimize\\_numdiff.py:576: RuntimeWarning: invalid value encountered in subtract\n",
      "  df = fun(x) - f0\n"
     ]
    },
    {
     "name": "stdout",
     "output_type": "stream",
     "text": [
      "Community #34: 2 schools\n",
      "There are 72 parameters\n",
      "Community #35: 2 schools\n",
      "There are 36 parameters\n",
      "Community #36: 2 schools\n",
      "There are 105 parameters\n"
     ]
    },
    {
     "name": "stderr",
     "output_type": "stream",
     "text": [
      "C:\\Users\\csh_samu\\Documents\\CSH\\CSH\\projects\\multiple_attributes\\python_GIT\\package\\infer\\inference.py:17: RuntimeWarning: divide by zero encountered in log\n",
      "  return np.sum(counts*np.log(p_est) + (NN-counts)*np.log(1-p_est))\n",
      "C:\\Users\\csh_samu\\Documents\\CSH\\CSH\\projects\\multiple_attributes\\python_GIT\\package\\infer\\inference.py:17: RuntimeWarning: invalid value encountered in multiply\n",
      "  return np.sum(counts*np.log(p_est) + (NN-counts)*np.log(1-p_est))\n"
     ]
    }
   ],
   "source": [
    "data_path = \"../multidimensional_homophily/Datasets/AddHealth\"\n",
    "\n",
    "aics_dict = {}\n",
    "for school in range(1,84):\n",
    "    try:\n",
    "        nodes_list,edges_list = data_loader.load_AddHealth(school, th_sex = 20, th_race=20, th_grade=20, school=None,\n",
    "                                                          data_path = data_path)\n",
    "    except: print('Error')\n",
    "    if len(nodes_list['sex'].cat.categories)==1 or len(nodes_list['race'].cat.categories)==1:\n",
    "        print('There is only one sex category or only one race category: we skip it')\n",
    "    elif nodes_list.shape[0]<100:\n",
    "        print('There are less than 100 students in this school: we skip it')\n",
    "    else:\n",
    "        n,counts = aux_functions.get_n_and_counts(nodes_list,edges_list,['sex','race','grade'])\n",
    "        print(f'There are {n.shape[1]} parameters')\n",
    "        results = inference.create_table(n,counts)\n",
    "        results = results.set_index('Type of model')\n",
    "        results = results.drop(['or','mean'],axis=0)\n",
    "        results.index = ['Strictly multidimensional', 'sex-race-grade', 'sex', 'race', 'grade', 'sex-race', 'sex-grade', 'race-grade']\n",
    "        results['AIC'] = results['AIC'].div(results.loc['Strictly multidimensional','AIC'])\n",
    "        aics = results['AIC'].sort_values()\n",
    "        aics_dict[school] = aics\n",
    "aics_df = pd.DataFrame(aics_dict).transpose()\n",
    "aics_df = aics_df.T.assign(m=aics_df.median(axis=0)).sort_values('m',ascending=False).drop('m', axis=1).T\n",
    "aics_df = aics_df.drop('Strictly multidimensional',axis=1)\n",
    "aics_df = aics_df.apply(lambda x: np.log2(x) if np.issubdtype(x.dtype, np.number) else x)\n",
    "aics_df.columns = [x.replace('-',' + ') for x in aics_df.columns]\n",
    "fig,ax= plt.subplots(1,1,figsize=(0.6*2,0.6*8))\n",
    "p = plt.violinplot(aics_df,showmeans=False, showmedians=False, showextrema=False, vert=False)\n",
    "ax.grid(axis = \"x\",zorder=0,alpha=0.3)\n",
    "colors = ['C0','C1','C1','C2','C1','C2','C2']\n",
    "for pos in range(1,8):\n",
    "    p[\"bodies\"][pos-1].set_facecolor(colors[7-pos])\n",
    "    plt.boxplot(aics_df.iloc[:,pos-1],\n",
    "        positions=[pos],\n",
    "        sym = \"\",\n",
    "        patch_artist=True,\n",
    "        boxprops=dict(facecolor='black'),\n",
    "        medianprops=dict(alpha=0),\n",
    "        capprops=dict(alpha=0),\n",
    "        vert=False\n",
    "    )\n",
    "    plt.plot(np.median(aics_df.iloc[:,pos-1]),pos,\"ow\",ms=2)\n",
    "plt.yticks(range(1,8),aics_df.columns)\n",
    "plt.xticks(np.arange(-2,4,1))\n",
    "plt.tick_params(axis='y', which='both', left=False, right=False)\n",
    "plt.xlabel('log(AIC ratio)')\n",
    "ax.spines['top'].set_visible(False)\n",
    "ax.spines['right'].set_visible(False)\n",
    "ax.spines['left'].set_visible(False)\n",
    "plt.plot((0,0),(0.5,7.5),ls=\"--\", color=\"grey\", zorder=0, lw=1)\n",
    "plt.xticks(np.arange(-2,4,1))\n",
    "plt.show()\n",
    "plt.savefig('plot.svg',bbox_inches='tight')"
   ]
  },
  {
   "cell_type": "code",
   "execution_count": null,
   "id": "db83e75b-b966-493f-9003-0df4d72a80ef",
   "metadata": {},
   "outputs": [],
   "source": []
  }
 ],
 "metadata": {
  "kernelspec": {
   "display_name": "Python 3 (ipykernel)",
   "language": "python",
   "name": "python3"
  },
  "language_info": {
   "codemirror_mode": {
    "name": "ipython",
    "version": 3
   },
   "file_extension": ".py",
   "mimetype": "text/x-python",
   "name": "python",
   "nbconvert_exporter": "python",
   "pygments_lexer": "ipython3",
   "version": "3.8.18"
  }
 },
 "nbformat": 4,
 "nbformat_minor": 5
}
